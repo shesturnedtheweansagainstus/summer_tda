{
 "cells": [
  {
   "cell_type": "code",
   "execution_count": 1,
   "metadata": {},
   "outputs": [],
   "source": [
    "from sklearn.neighbors      import KDTree\n",
    "from random                 import sample\n",
    "from sklearn.decomposition  import PCA\n",
    "import tadasets\n",
    "import numpy                as np\n",
    "import matplotlib.pyplot    as plt\n",
    "import warnings\n",
    "warnings.filterwarnings(\"ignore\")"
   ]
  },
  {
   "cell_type": "code",
   "execution_count": null,
   "metadata": {},
   "outputs": [],
   "source": [
    "class Simplex:\n",
    "    \"\"\"\n",
    "    Represents the simplex skeleton of \n",
    "    our pointcloud.\n",
    "    \"\"\"\n",
    "\n",
    "    def __init__(self):\n",
    "        \"\"\"\n",
    "        Attributes\n",
    "        ----------\n",
    "        pointcloud : (n_samples, n_features) np.array\n",
    "            The pointcloud data from which we build our simplex.\n",
    "        simplex : np.array\n",
    "            ???\n",
    "        dim : int \n",
    "            dimension of our simplex.\n",
    "        \"\"\"\n",
    "        self.pointcloud = None\n",
    "        self.simplex = None\n",
    "        self.dim = None\n",
    "    \n",
    "    def find_visible_edge(self, idx, ind, dist):\n",
    "        \"\"\"\n",
    "        Computes a list of the indexes of points visible from \n",
    "        the 'idx' point, then returns the visible edges and their distances \n",
    "        as sorted by  distances\n",
    "\n",
    "\n",
    "        Parameters\n",
    "        ----------\n",
    "        idx : int\n",
    "            Index of a point.\n",
    "        ind : (k,) np.array\n",
    "            Indexes of points connected to the idx point by KNN.\n",
    "        \n",
    "        Returns\n",
    "        -------\n",
    "        sorted_dist : (n_visible_edges,) np.array\n",
    "            Lengths of 'visible' edges sorted by acsending.\n",
    "        sorted_ind : (n_visible_edges,) np.array\n",
    "            Indexes of visible edges sorted by acsending length (self.pointcloud).\n",
    "        sorted_visible_edges : (n_visible_edges, n_features) np.array\n",
    "            Array of visible edges sorted by acsending length.\n",
    "        \"\"\"\n",
    "        point = self.pointcloud[idx]\n",
    "        # List of indexes for visible points from the 'idx' point\n",
    "        # where the indexes are for 'ind' (not self.pointcloud)\n",
    "        visible_points_idx = [] \n",
    "        visible = True\n",
    "\n",
    "        for y_count, idy in enumerate(ind):\n",
    "            y = self.pointcloud[idy]\n",
    "            for idz in ind:\n",
    "                if idz != idy:\n",
    "                    z = self.pointcloud[idz]\n",
    "                    cos_angle = np.dot(point - z, y - z)  \n",
    "                    if cos_angle < 0:\n",
    "                        visible = False\n",
    "                        break\n",
    "            if visible == True:\n",
    "                visible_points_idx.append(y_count)  \n",
    "            visible = True\n",
    "        \n",
    "        argsort_idx = np.argsort(dist[visible_points_idx])\n",
    "        sorted_dist = dist[visible_points_idx][argsort_idx]\n",
    "        sorted_ind = ind[visible_points_idx][argsort_idx]\n",
    "\n",
    "        sorted_visible_edges_idx = ind[visible_points_idx][argsort_idx]\n",
    "        sorted_visible_edges = self.pointcloud[sorted_visible_edges_idx] - point\n",
    "\n",
    "        \n",
    "\n",
    "        return sorted_dist, sorted_ind, sorted_visible_edges\n",
    "\n",
    "    def build_edges(self, pointcloud, k=10, threshold_var=0.999, threshold_edge=0):\n",
    "        \"\"\"\n",
    "        Computes the safe edges of our simplex.\n",
    "\n",
    "        Parameters\n",
    "        ----------\n",
    "        pointcloud : (n_samples, n_features) np.array\n",
    "            The pointcloud data from which we build our simplex.\n",
    "        k : int\n",
    "            The number of NN we use.\n",
    "        threshold_var : [0,1] float\n",
    "            The threshold to estimate the local intrinsic dimension by PCA.\n",
    "        threshold_edge : positive float\n",
    "            The threshold to choose safe edges.\n",
    "        \"\"\"\n",
    "        self.pointcloud = pointcloud\n",
    "        kd_tree = KDTree(pointcloud, leaf_size=2)  # ALREADY ORDERED\n",
    "        dists, inds = kd_tree.query(pointcloud, k=k+1)\n",
    "        \n",
    "        dists = dists[:, 1:]  # removes points being compared to itself with KNN\n",
    "        inds = inds[:, 1:]\n",
    "\n",
    "        dists_inds = [self.find_visible_edge(i, inds[i], dists[i]) for i in range(len(inds))]\n",
    "\n",
    "\n",
    "\n",
    "\n",
    "\n",
    "\n",
    "\n",
    "\n",
    "\n",
    "\n",
    "\n"
   ]
  },
  {
   "cell_type": "code",
   "execution_count": 2,
   "metadata": {},
   "outputs": [
    {
     "data": {
      "image/png": "[encoded data removed]",
      "text/plain": [
       "<Figure size 720x360 with 1 Axes>"
      ]
     },
     "metadata": {
      "needs_background": "light"
     },
     "output_type": "display_data"
    }
   ],
   "source": [
    "eyeglasses = np.loadtxt('eyeglasses_tight.txt')\n",
    "pointcloud = np.array(sample(list(eyeglasses), 100))\n",
    "fig = plt.figure(figsize =(10,5))\n",
    "plt.scatter(pointcloud[:,0], pointcloud[:,1], alpha = 0.5);"
   ]
  },
  {
   "cell_type": "code",
   "execution_count": 3,
   "metadata": {},
   "outputs": [],
   "source": [
    "def plot_graph(local_neighborhood):\n",
    "    fig = plt.figure(figsize =(10,5))\n",
    "    plt.scatter(pointcloud[:,0], pointcloud[:,1], alpha = 0.5)\n",
    "    for j in range(len(local_neighborhood)):\n",
    "        for i in range(1, len(local_neighborhood[j])):\n",
    "            plt.plot([local_neighborhood[j][0][0],local_neighborhood[j][i][0]], [local_neighborhood[j][0][1],local_neighborhood[j][i][1]])"
   ]
  },
  {
   "cell_type": "code",
   "execution_count": null,
   "metadata": {},
   "outputs": [],
   "source": []
  }
 ],
 "metadata": {
  "kernelspec": {
   "display_name": "Python 3.7.10 ('menv')",
   "language": "python",
   "name": "python3"
  },
  "language_info": {
   "codemirror_mode": {
    "name": "ipython",
    "version": 3
   },
   "file_extension": ".py",
   "mimetype": "text/x-python",
   "name": "python",
   "nbconvert_exporter": "python",
   "pygments_lexer": "ipython3",
   "version": "3.7.10"
  },
  "orig_nbformat": 4,
  "vscode": {
   "interpreter": {
    "hash": "2cae5d9ea5b1f5f999363081eff2a06d9f3791fb5cffaa4ef644e25687334e5e"
   }
  }
 },
 "nbformat": 4,
 "nbformat_minor": 2
}
