{
 "cells": [
  {
   "cell_type": "code",
   "execution_count": 1,
   "metadata": {},
   "outputs": [],
   "source": [
    "from scipy.optimize         import newton\n",
    "from sklearn.neighbors      import KDTree\n",
    "from scipy.sparse           import csr_matrix\n",
    "from scipy.sparse.csgraph   import dijkstra\n",
    "from scipy.linalg           import eig\n",
    "from sklearn.decomposition  import PCA\n",
    "import numpy                as np\n",
    "import gudhi                as gd\n",
    "import warnings\n",
    "import gurobipy             as gp\n",
    "from gurobipy               import GRB\n",
    "import matplotlib.pyplot    as plt\n",
    "from kneed                  import KneeLocator\n",
    "from scipy.spatial          import distance_matrix\n",
    "from ripser                 import Rips\n",
    "from sklearn.preprocessing  import PolynomialFeatures\n",
    "import sympy                as sp\n",
    "from pymoo.algorithms.soo.nonconvex.ga import GA\n",
    "from pymoo.core.problem     import Problem\n",
    "from pymoo.optimize         import minimize\n",
    "import tadasets\n",
    "import rml\n",
    "\n",
    "%matplotlib qt"
   ]
  },
  {
   "cell_type": "code",
   "execution_count": 2,
   "metadata": {},
   "outputs": [],
   "source": [
    "n_points = 1500"
   ]
  },
  {
   "cell_type": "code",
   "execution_count": 3,
   "metadata": {},
   "outputs": [],
   "source": [
    "params = {'max_components':5, 'S':0.5, 'k':10, 'threshold_var':0.05, 'edge_sen':1.5, 'k0':10, 'beta':[0.8, 3, 0.2, 0.2]}\n",
    "#params = {'max_components':5, 'S':0.5, 'k':10, 'threshold_var':0.05, 'edge_sen':2, 'k0':3, 'beta':None}\n",
    "\n",
    "b_params = {'k':10, 'threshold_var':0.08, 'edge_sen':1} "
   ]
  },
  {
   "cell_type": "code",
   "execution_count": 4,
   "metadata": {},
   "outputs": [],
   "source": [
    "sphere2 = tadasets.dsphere(n=int(n_points*2))\n",
    "sphere2 = sphere2[sphere2[:, 2]>=0]\n",
    "\n",
    "sphere5 = tadasets.dsphere(n=int(n_points*1.3))\n",
    "sphere5 = sphere5[sphere5[:, 2]>=-0.7]"
   ]
  },
  {
   "cell_type": "code",
   "execution_count": 5,
   "metadata": {},
   "outputs": [
    {
     "name": "stdout",
     "output_type": "stream",
     "text": [
      "Restricted license - for non-production use only - expires 2023-10-25\n",
      "535\n",
      "74\n"
     ]
    }
   ],
   "source": [
    "S = rml.Simplex()\n",
    "S.build_simplex(sphere5, **params)\n",
    "_ = S.normal_coords_trade(**params)"
   ]
  },
  {
   "cell_type": "code",
   "execution_count": 6,
   "metadata": {},
   "outputs": [],
   "source": [
    "def local_neighborhood(S, scale):\n",
    "    '''\n",
    "    Computes an annular neighborhood for every point in the point cloud.\n",
    "    \n",
    "    data: array describing the point cloud\n",
    "    scale: list [k1, k2] with k1, k2 integers describing the number of nearest neighbors that will comprise the annulus\n",
    "    '''\n",
    "\n",
    "    D = dijkstra(S.edge_matrix)  # go from pointcloud manifold to projection\n",
    "\n",
    "    S_b = rml.Simplex()\n",
    "    S_b.build_simplex(S.coords, **b_params)\n",
    "    D_coords = dijkstra(S_b.edge_matrix)\n",
    "    \n",
    "    n = scale[1]-scale[0]\n",
    "    m = len(D)\n",
    "\n",
    "    local_neigh = np.ndarray(shape=(m,n), dtype=int, order='F')\n",
    "    radius = np.ndarray(shape=(m,2), dtype=float, order='F')\n",
    "    radius_coords = np.ndarray(shape=(m,2), dtype=float, order='F')\n",
    "\n",
    "    for i in range(m):\n",
    "        local_neigh[i] = np.argsort(D[i])[scale[0]:scale[1]] # the annulus neighborhood of point i in data\n",
    "\n",
    "    D.sort()\n",
    "    D_coords.sort()\n",
    "\n",
    "    for i in range(m):\n",
    "        radius[i] = [D[i][scale[0]], D[i][scale[1]]] # the pair [r1,r2] of radii associated to the annulus neighborhood\n",
    "        radius_coords[i] = [D_coords[i][scale[0]], D_coords[i][scale[1]]]\n",
    "\n",
    "    return local_neigh, radius, radius_coords "
   ]
  },
  {
   "cell_type": "code",
   "execution_count": null,
   "metadata": {},
   "outputs": [],
   "source": [
    "def compute_local_persistence(data, scale, d):\n",
    "    '''\n",
    "    Classify every point in the point cloud depending its local homology at degree d-1\n",
    "    \n",
    "    data: array describing the point cloud\n",
    "    scale: list [k1, k2] with k1, k2 integers describing the number of nearest neighbors that will comprise the annulus\n",
    "    d: the estimated intrinsic dimension of the point cloud\n",
    "    '''\n",
    "    k1 = scale[0]\n",
    "    k2 = scale[1]\n",
    "    \n",
    "    local_neigh, radius, radius_coords = local_neighborhood(data, [k1, k2])\n",
    "    \n",
    "    rips = Rips(maxdim = d-1)\n",
    "    mask = []\n",
    "    for i in range(len(data)):\n",
    "        dgm = rips.fit_transform(data[local_neigh[i]])\n",
    "        \n",
    "        # here we only focus on betti d-1\n",
    "\n",
    "        lifetime = dgm[d-1][:,1]-dgm[d-1][:,0]\n",
    "\n",
    "        r1 = radius[i][0]\n",
    "        r2 = radius[i][1]\n",
    "            \n",
    "        N = np.where(lifetime>r2-r1)[0]\n",
    "\n",
    "        if len(N)==0:\n",
    "            mask.append(0) # boundary\n",
    "        elif len(N)==1:\n",
    "            mask.append(1) # regular point\n",
    "        else:\n",
    "            mask.append(2) # singular point\n",
    "\n",
    "    return np.array(mask)"
   ]
  },
  {
   "cell_type": "code",
   "execution_count": 10,
   "metadata": {},
   "outputs": [],
   "source": [
    "def show_boundary(S0, **kwargs):\n",
    "    \"\"\"\n",
    "    \n",
    "    \"\"\"\n",
    "\n",
    "    mask = compute_local_persistence(S0, [40, 80], S0.dim)\n",
    "    boundary_points = np.where(mask==0)[0]\n",
    "    non_boundary_points = np.where(mask!=0)[0]\n",
    "\n",
    "    fig = plt.figure(figsize=(20, 10))\n",
    "    fig.suptitle(\", \".join([i+\"=\"+str(kwargs[i]) for i in kwargs.keys()]) + f', dim={S0.dim}, n={len(S0.pointcloud)}')\n",
    "\n",
    "    ax1 = fig.add_subplot(1, 2, 1, projection='3d')\n",
    "    ax2 = fig.add_subplot(1, 2, 2)\n",
    "\n",
    "    ax1.scatter3D(S0.pointcloud[non_boundary_points, 0], S0.pointcloud[non_boundary_points, 1], S0.pointcloud[non_boundary_points, 2], c=S0.pointcloud[non_boundary_points, 0], alpha=0.7) \n",
    "    ax1.scatter3D(S0.pointcloud[boundary_points, 0], S0.pointcloud[boundary_points, 1], S0.pointcloud[boundary_points, 2], c='r')\n",
    "\n",
    "    for i in range(len(S0.pointcloud)):\n",
    "        for k in S0.edges[i]:\n",
    "            ax1.plot3D([S0.pointcloud[i][0], S0.pointcloud[k][0]],[S0.pointcloud[i][1], S0.pointcloud[k][1]], [S0.pointcloud[i][2], S0.pointcloud[k][2]], color='black', alpha=0.1)\n",
    "\n",
    "    ax2.scatter(S0.coords[non_boundary_points, 0], S0.coords[non_boundary_points, 1], c=S0.pointcloud[non_boundary_points, 0], alpha=0.7)\n",
    "    ax2.scatter(S0.coords[boundary_points, 0], S0.coords[boundary_points, 1], c='r')\n",
    "\n",
    "    plt.show()"
   ]
  },
  {
   "cell_type": "code",
   "execution_count": 11,
   "metadata": {},
   "outputs": [],
   "source": [
    "def show_pointcloud_boundary(S0, show_coords=False, **kwargs):\n",
    "\n",
    "    mask = rml.compute_local_persistence(S0.pointcloud, [40, 80], S0.dim) \n",
    "    boundary_points = np.where(mask==0)[0]\n",
    "    non_boundary_points = np.where(mask!=0)[0]\n",
    "\n",
    "    fig = plt.figure(figsize=(20, 10))\n",
    "    fig.suptitle(\", \".join([i+\"=\"+str(kwargs[i]) for i in kwargs.keys()]) + f', dim={S0.dim}, n={len(S0.pointcloud)}')\n",
    "\n",
    "    ax1 = fig.add_subplot(1, 1, 1, projection='3d') if not show_coords else fig.add_subplot(1, 2, 1, projection='3d')\n",
    "    if show_coords:\n",
    "        ax2 = fig.add_subplot(1, 2, 2)\n",
    "\n",
    "\n",
    "    ax1.scatter3D(S0.pointcloud[non_boundary_points, 0], S0.pointcloud[non_boundary_points, 1], S0.pointcloud[non_boundary_points, 2], c=S0.pointcloud[non_boundary_points, 0], alpha=0.7) \n",
    "    ax1.scatter3D(S0.pointcloud[boundary_points, 0], S0.pointcloud[boundary_points, 1], S0.pointcloud[boundary_points, 2], c='r')\n",
    "\n",
    "    for i in range(len(S0.pointcloud)):\n",
    "        for k in S0.edges[i]:\n",
    "            ax1.plot3D([S0.pointcloud[i][0], S0.pointcloud[k][0]],[S0.pointcloud[i][1], S0.pointcloud[k][1]], [S0.pointcloud[i][2], S0.pointcloud[k][2]], color='black', alpha=0.1)\n",
    "    \n",
    "    if show_coords:\n",
    "        ax2.scatter(S0.coords[non_boundary_points, 0], S0.coords[non_boundary_points, 1], c=S0.pointcloud[non_boundary_points, 0], alpha=0.7)\n",
    "        ax2.scatter(S0.coords[boundary_points, 0], S0.coords[boundary_points, 1], c='r')\n",
    "    \n",
    "    plt.show()"
   ]
  },
  {
   "cell_type": "code",
   "execution_count": 14,
   "metadata": {},
   "outputs": [
    {
     "name": "stdout",
     "output_type": "stream",
     "text": [
      "Rips(maxdim=1, thresh=inf, coeff=2, do_cocycles=False, n_perm = None, verbose=True)\n"
     ]
    }
   ],
   "source": [
    "show_boundary(S)"
   ]
  },
  {
   "cell_type": "code",
   "execution_count": 12,
   "metadata": {},
   "outputs": [
    {
     "name": "stdout",
     "output_type": "stream",
     "text": [
      "Rips(maxdim=1, thresh=inf, coeff=2, do_cocycles=False, n_perm = None, verbose=True)\n"
     ]
    }
   ],
   "source": [
    "show_pointcloud_boundary(S, show_coords=True, **params)"
   ]
  },
  {
   "cell_type": "code",
   "execution_count": 43,
   "metadata": {},
   "outputs": [],
   "source": [
    "def compute_boundary(S0, **kwargs):\n",
    "    \"\"\"\n",
    "    \n",
    "    \"\"\"\n",
    "    mask = rml.compute_local_persistence(S0.coords, [40, 80], S0.dim)  # test more parameters\n",
    "    dist_matrix, _ = dijkstra(S0.edge_matrix, return_predecessors=True) \n",
    "    boundary_points = np.where(mask==0)[0]\n",
    "\n",
    "    p_idx = boundary_points[0]\n",
    "    p_dist = dist_matrix[p_idx, boundary_points]\n",
    "\n",
    "    S_b = rml.Simplex()\n",
    "    S_b.build_simplex(S0.coords, **kwargs)\n",
    "\n",
    "    fig = plt.figure(figsize=(20, 10))\n",
    "\n",
    "    ax1 = fig.add_subplot(1, 2, 1)\n",
    "    ax2 = fig.add_subplot(1, 2, 2)\n",
    "\n",
    "    ax1.scatter(S_b.pointcloud[:, 0], S_b.pointcloud[:, 1])\n",
    "    ax1.scatter(S_b.pointcloud[boundary_points, 0], S_b.pointcloud[boundary_points, 1], color='r')\n",
    "\n",
    "    for i in range(len(S_b.pointcloud)):\n",
    "        for k in S_b.edges[i]:\n",
    "            ax1.plot([S_b.pointcloud[i][0], S_b.pointcloud[k][0]],[S_b.pointcloud[i][1], S_b.pointcloud[k][1]], color='black', alpha=0.1)\n",
    "\n",
    "    new_boundary = []\n",
    "\n",
    "    for i in boundary_points:\n",
    "        edge = S_b.edges[i]\n",
    "        count = 0\n",
    "        for j in edge:\n",
    "            if j in boundary_points:\n",
    "                count += 1\n",
    "        if count > len(edge) - count:\n",
    "            new_boundary.append(i)\n",
    "\n",
    "    new_boundary = np.asarray(new_boundary)\n",
    "\n",
    "    ax2.scatter(S_b.pointcloud[:, 0], S_b.pointcloud[:, 1])\n",
    "    ax2.scatter(S_b.pointcloud[new_boundary, 0], S_b.pointcloud[new_boundary, 1], color='r')\n",
    "\n",
    "    for i in range(len(S_b.pointcloud)):\n",
    "        for k in S_b.edges[i]:\n",
    "            ax2.plot([S_b.pointcloud[i][0], S_b.pointcloud[k][0]],[S_b.pointcloud[i][1], S_b.pointcloud[k][1]], color='black', alpha=0.1)"
   ]
  },
  {
   "cell_type": "code",
   "execution_count": null,
   "metadata": {},
   "outputs": [],
   "source": []
  }
 ],
 "metadata": {
  "kernelspec": {
   "display_name": "Python 3.7.10 ('menv')",
   "language": "python",
   "name": "python3"
  },
  "language_info": {
   "codemirror_mode": {
    "name": "ipython",
    "version": 3
   },
   "file_extension": ".py",
   "mimetype": "text/x-python",
   "name": "python",
   "nbconvert_exporter": "python",
   "pygments_lexer": "ipython3",
   "version": "3.7.10"
  },
  "orig_nbformat": 4,
  "vscode": {
   "interpreter": {
    "hash": "2cae5d9ea5b1f5f999363081eff2a06d9f3791fb5cffaa4ef644e25687334e5e"
   }
  }
 },
 "nbformat": 4,
 "nbformat_minor": 2
}
