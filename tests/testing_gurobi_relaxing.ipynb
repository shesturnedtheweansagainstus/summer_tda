{
 "cells": [
  {
   "cell_type": "code",
   "execution_count": 1,
   "metadata": {},
   "outputs": [],
   "source": [
    "from scipy.optimize         import newton\n",
    "from sklearn.neighbors      import KDTree\n",
    "from scipy.sparse           import csr_matrix\n",
    "from scipy.sparse.csgraph   import dijkstra\n",
    "from scipy.linalg           import eig\n",
    "from sklearn.decomposition  import PCA\n",
    "import numpy                as np\n",
    "import gudhi                as gd\n",
    "import warnings\n",
    "import gurobipy             as gp\n",
    "from gurobipy               import GRB\n",
    "import matplotlib.pyplot    as plt\n",
    "from kneed                  import KneeLocator\n",
    "from scipy.spatial          import distance_matrix\n",
    "from ripser                 import Rips\n",
    "from sklearn.preprocessing  import PolynomialFeatures\n",
    "import sympy                as sp\n",
    "from pymoo.algorithms.soo.nonconvex.ga import GA\n",
    "from pymoo.core.problem     import Problem\n",
    "from pymoo.optimize         import minimize\n",
    "import tadasets\n",
    "import rml"
   ]
  },
  {
   "cell_type": "code",
   "execution_count": 9,
   "metadata": {},
   "outputs": [],
   "source": [
    "m = gp.Model()\n",
    "m.setParam('OutputFlag', 0)\n",
    "m.setParam(GRB.Param.NonConvex, 2)\n",
    "x = m.addMVar(shape=2, lb=float('-inf'))\n",
    "z = m.addMVar(shape=2, lb=float('-inf'))\n",
    "\n",
    "Q = A.T @ A\n",
    "c = -2 * y.T @ A\n",
    "obj = x @ Q @ x + c @ x + y.T @ y\n",
    "\n",
    "m.setObjective(obj, GRB.MINIMIZE)\n",
    "\n",
    "c0 = m.addConstr(x@x == alpha**2, name=\"c0\")\n",
    "\n",
    "c1 = m.addConstr(z == x+b_prime-c_1_prime, name=\"d0\")\n",
    "d1 = m.addConstr(z@z == (q-c_1)@(q-c_1), name=\"d0\")\n",
    "\n",
    "m.feasRelax(relaxobjtype=1, minrelax=False, vars=None, lbpen=None, ubpen=None, constrs=[d1], rhspen=[1])\n",
    "m.optimize()"
   ]
  },
  {
   "cell_type": "code",
   "execution_count": 2,
   "metadata": {},
   "outputs": [],
   "source": [
    "params = {'max_components':5, 'S':0.5, 'k':10, 'threshold_var':0.05, 'edge_sen':1, 'k0':2, 'beta':100}  # change edge sen\n",
    "sphere5 = tadasets.dsphere(n=int(1500*1.3))\n",
    "sphere5 = sphere5[sphere5[:, 2]>=-0.7]\n",
    "S = rml.Simplex()\n",
    "S.build_simplex(sphere5, **params)"
   ]
  },
  {
   "cell_type": "code",
   "execution_count": 3,
   "metadata": {},
   "outputs": [
    {
     "name": "stdout",
     "output_type": "stream",
     "text": [
      "Restricted license - for non-production use only - expires 2023-10-25\n",
      "1656\n",
      "0\n"
     ]
    },
    {
     "ename": "ValueError",
     "evalue": "not enough values to unpack (expected 7, got 2)",
     "output_type": "error",
     "traceback": [
      "\u001b[0;31m---------------------------------------------------------------------------\u001b[0m",
      "\u001b[0;31mValueError\u001b[0m                                Traceback (most recent call last)",
      "\u001b[0;32m<ipython-input-3-9702e5ebf4fc>\u001b[0m in \u001b[0;36m<module>\u001b[0;34m\u001b[0m\n\u001b[0;32m----> 1\u001b[0;31m \u001b[0mA\u001b[0m\u001b[0;34m,\u001b[0m \u001b[0my\u001b[0m\u001b[0;34m,\u001b[0m \u001b[0malpha\u001b[0m\u001b[0;34m,\u001b[0m \u001b[0mc_1\u001b[0m\u001b[0;34m,\u001b[0m \u001b[0mc_1_prime\u001b[0m\u001b[0;34m,\u001b[0m \u001b[0mq\u001b[0m\u001b[0;34m,\u001b[0m \u001b[0mb_prime\u001b[0m \u001b[0;34m=\u001b[0m \u001b[0mS\u001b[0m\u001b[0;34m.\u001b[0m\u001b[0mnormal_coords_trade\u001b[0m\u001b[0;34m(\u001b[0m\u001b[0;34m**\u001b[0m\u001b[0mparams\u001b[0m\u001b[0;34m)\u001b[0m\u001b[0;34m\u001b[0m\u001b[0;34m\u001b[0m\u001b[0m\n\u001b[0m",
      "\u001b[0;31mValueError\u001b[0m: not enough values to unpack (expected 7, got 2)"
     ]
    }
   ],
   "source": [
    "A, y, alpha, c_1, c_1_prime, q, b_prime = S.normal_coords_trade(**params)"
   ]
  },
  {
   "cell_type": "code",
   "execution_count": 13,
   "metadata": {},
   "outputs": [
    {
     "name": "stdout",
     "output_type": "stream",
     "text": [
      "[[17.66549616  4.88347078]\n",
      " [16.3030199  -8.37434078]\n",
      " [17.66485584  4.88578647]\n",
      " [18.29176392 -1.15300225]]\n",
      "[ 0.27639128 -0.88839732  0.39363632 -0.63422566]\n",
      "0.05456112735778344\n",
      "[-0.41712114 -0.34422138  0.84114303]\n",
      "[0.11388834 0.4564227 ]\n",
      "[-0.48384386 -0.23117099  0.84407055]\n",
      "[-0.07370518  0.40456412]\n"
     ]
    }
   ],
   "source": [
    "print(A)\n",
    "print(y)\n",
    "print(alpha)\n",
    "print(c_1)\n",
    "print(c_1_prime)\n",
    "print(q)\n",
    "print(b_prime)"
   ]
  },
  {
   "cell_type": "code",
   "execution_count": 20,
   "metadata": {},
   "outputs": [],
   "source": [
    "m = gp.Model()\n",
    "m.setParam('OutputFlag', 0)\n",
    "m.setParam(GRB.Param.NonConvex, 2)\n",
    "x = m.addMVar(shape=2, lb=float('-inf'))\n",
    "z = m.addMVar(shape=2, lb=float('-inf'))\n",
    "\n",
    "Q = A.T @ A\n",
    "c = -2 * y.T @ A\n",
    "obj = x @ Q @ x + c @ x + y.T @ y\n",
    "\n",
    "m.setObjective(obj, GRB.MINIMIZE)\n",
    "\n",
    "c0 = m.addConstr(x@x == alpha**2, name=\"c0\")\n",
    "\n",
    "c1 = m.addConstr(z == x+b_prime-c_1_prime, name=\"d0\")\n",
    "d1 = m.addConstr(z@z == (q-c_1)@(q-c_1), name=\"d0\")\n",
    "\n",
    "m.feasRelax(relaxobjtype=1, minrelax=False, vars=None, lbpen=None, ubpen=None, constrs=[c0, d1], rhspen=[10, 100])\n",
    "\n",
    "m.optimize()"
   ]
  },
  {
   "cell_type": "code",
   "execution_count": 21,
   "metadata": {},
   "outputs": [
    {
     "data": {
      "text/plain": [
       "array([0.05240733, 0.01519557])"
      ]
     },
     "execution_count": 21,
     "metadata": {},
     "output_type": "execute_result"
    }
   ],
   "source": [
    "x.X"
   ]
  },
  {
   "cell_type": "code",
   "execution_count": 22,
   "metadata": {},
   "outputs": [
    {
     "data": {
      "text/plain": [
       "2"
      ]
     },
     "execution_count": 22,
     "metadata": {},
     "output_type": "execute_result"
    }
   ],
   "source": [
    "m.status"
   ]
  },
  {
   "cell_type": "code",
   "execution_count": 23,
   "metadata": {},
   "outputs": [
    {
     "data": {
      "text/plain": [
       "0.002977433436283547"
      ]
     },
     "execution_count": 23,
     "metadata": {},
     "output_type": "execute_result"
    }
   ],
   "source": [
    "np.asarray(x.X) @ np.asarray(x.X)"
   ]
  },
  {
   "cell_type": "code",
   "execution_count": 24,
   "metadata": {},
   "outputs": [
    {
     "data": {
      "text/plain": [
       "0.002976916618552265"
      ]
     },
     "execution_count": 24,
     "metadata": {},
     "output_type": "execute_result"
    }
   ],
   "source": [
    "alpha**2"
   ]
  },
  {
   "cell_type": "code",
   "execution_count": null,
   "metadata": {},
   "outputs": [],
   "source": []
  }
 ],
 "metadata": {
  "kernelspec": {
   "display_name": "Python 3.7.10 ('menv')",
   "language": "python",
   "name": "python3"
  },
  "language_info": {
   "codemirror_mode": {
    "name": "ipython",
    "version": 3
   },
   "file_extension": ".py",
   "mimetype": "text/x-python",
   "name": "python",
   "nbconvert_exporter": "python",
   "pygments_lexer": "ipython3",
   "version": "3.7.10"
  },
  "orig_nbformat": 4,
  "vscode": {
   "interpreter": {
    "hash": "2cae5d9ea5b1f5f999363081eff2a06d9f3791fb5cffaa4ef644e25687334e5e"
   }
  }
 },
 "nbformat": 4,
 "nbformat_minor": 2
}
