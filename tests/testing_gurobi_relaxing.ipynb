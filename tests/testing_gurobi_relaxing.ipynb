{
 "cells": [
  {
   "cell_type": "code",
   "execution_count": 3,
   "metadata": {},
   "outputs": [],
   "source": [
    "from scipy.optimize         import newton\n",
    "from sklearn.neighbors      import KDTree\n",
    "from scipy.sparse           import csr_matrix\n",
    "from scipy.sparse.csgraph   import dijkstra\n",
    "from scipy.linalg           import eig\n",
    "from sklearn.decomposition  import PCA\n",
    "import numpy                as np\n",
    "import gudhi                as gd\n",
    "import warnings\n",
    "import gurobipy             as gp\n",
    "from gurobipy               import GRB\n",
    "import matplotlib.pyplot    as plt\n",
    "from kneed                  import KneeLocator\n",
    "from scipy.spatial          import distance_matrix\n",
    "from ripser                 import Rips\n",
    "from sklearn.preprocessing  import PolynomialFeatures\n",
    "import sympy                as sp\n",
    "from pymoo.algorithms.soo.nonconvex.ga import GA\n",
    "from pymoo.core.problem     import Problem\n",
    "from pymoo.optimize         import minimize"
   ]
  },
  {
   "cell_type": "code",
   "execution_count": 4,
   "metadata": {},
   "outputs": [],
   "source": [
    "np.random.seed(1)\n",
    "\n",
    "A = np.random.rand(4, 2)\n",
    "y = np.random.randn(4)\n",
    "\n",
    "q = np.random.rand(5)\n",
    "c_1 = np.random.randn(5)\n",
    "\n",
    "alpha = 1\n",
    "\n",
    "b_prime = np.random.rand(2)\n",
    "c_1_prime = np.random.rand(2)"
   ]
  },
  {
   "cell_type": "code",
   "execution_count": 8,
   "metadata": {},
   "outputs": [],
   "source": [
    "m = gp.Model()\n",
    "m.setParam('OutputFlag', 0)\n",
    "m.setParam(GRB.Param.NonConvex, 2)\n",
    "x = m.addMVar(shape=2, lb=float('-inf'))\n",
    "z = m.addMVar(shape=2, lb=float('-inf'))\n",
    "\n",
    "Q = A.T @ A\n",
    "c = -2 * y.T @ A\n",
    "obj = x @ Q @ x + c @ x + y.T @ y\n",
    "\n",
    "m.setObjective(obj, GRB.MINIMIZE)\n",
    "\n",
    "c0 = m.addConstr(x@x == alpha**2, name=\"c0\")\n",
    "\n",
    "c1 = m.addConstr(z == x+b_prime-c_1_prime, name=\"d0\")\n",
    "d1 = m.addConstr(z@z == (q-c_1)@(q-c_1), name=\"d0\")\n",
    "\n",
    "m.feasRelax(relaxobjtype=1, minrelax=False, vars=None, lbpen=None, ubpen=None, constrs=[d1], rhspen=[1])\n",
    "m.optimize()"
   ]
  },
  {
   "cell_type": "code",
   "execution_count": 14,
   "metadata": {},
   "outputs": [],
   "source": [
    "X = np.asarray(x.X)"
   ]
  },
  {
   "cell_type": "code",
   "execution_count": 15,
   "metadata": {},
   "outputs": [
    {
     "name": "stdout",
     "output_type": "stream",
     "text": [
      "1.0000013485485761\n",
      "4.13061337865229\n",
      "3.2506623805725794\n"
     ]
    }
   ],
   "source": [
    "print(X@X)\n",
    "print((q-c_1)@(q-c_1))\n",
    "print((X+b_prime-c_1_prime)@(X+b_prime-c_1_prime))"
   ]
  },
  {
   "cell_type": "code",
   "execution_count": 9,
   "metadata": {},
   "outputs": [
    {
     "data": {
      "text/plain": [
       "<gurobi.Model MIP instance Unnamed: 2 constrs, 6 vars, Parameter changes: NonConvex=2, OutputFlag=0>"
      ]
     },
     "execution_count": 9,
     "metadata": {},
     "output_type": "execute_result"
    }
   ],
   "source": [
    "m"
   ]
  },
  {
   "cell_type": "code",
   "execution_count": 10,
   "metadata": {},
   "outputs": [
    {
     "data": {
      "text/plain": [
       "[<gurobi.QConstr c0>, <gurobi.QConstr d0>]"
      ]
     },
     "execution_count": 10,
     "metadata": {},
     "output_type": "execute_result"
    }
   ],
   "source": [
    "m.update()\n",
    "m.getQConstrs()"
   ]
  },
  {
   "cell_type": "code",
   "execution_count": 11,
   "metadata": {},
   "outputs": [
    {
     "data": {
      "text/plain": [
       "<gurobi.QConstr d0>"
      ]
     },
     "execution_count": 11,
     "metadata": {},
     "output_type": "execute_result"
    }
   ],
   "source": [
    "d1"
   ]
  },
  {
   "cell_type": "code",
   "execution_count": 24,
   "metadata": {},
   "outputs": [
    {
     "ename": "GurobiError",
     "evalue": "Length of penalty list differs from length of constraint list",
     "output_type": "error",
     "traceback": [
      "\u001b[0;31m---------------------------------------------------------------------------\u001b[0m",
      "\u001b[0;31mGurobiError\u001b[0m                               Traceback (most recent call last)",
      "\u001b[0;32m<ipython-input-24-d934ae32b3d7>\u001b[0m in \u001b[0;36m<module>\u001b[0;34m\u001b[0m\n\u001b[0;32m----> 1\u001b[0;31m \u001b[0mm\u001b[0m\u001b[0;34m.\u001b[0m\u001b[0mfeasRelax\u001b[0m\u001b[0;34m(\u001b[0m\u001b[0;36m1\u001b[0m\u001b[0;34m,\u001b[0m \u001b[0;32mFalse\u001b[0m\u001b[0;34m,\u001b[0m \u001b[0mm\u001b[0m\u001b[0;34m.\u001b[0m\u001b[0mgetVars\u001b[0m\u001b[0;34m(\u001b[0m\u001b[0;34m)\u001b[0m\u001b[0;34m,\u001b[0m \u001b[0;34m[\u001b[0m\u001b[0;36m1\u001b[0m\u001b[0;34m,\u001b[0m \u001b[0;36m1\u001b[0m\u001b[0;34m]\u001b[0m\u001b[0;34m,\u001b[0m \u001b[0;34m[\u001b[0m\u001b[0;36m1\u001b[0m\u001b[0;34m,\u001b[0m \u001b[0;36m1\u001b[0m\u001b[0;34m]\u001b[0m\u001b[0;34m,\u001b[0m \u001b[0mm\u001b[0m\u001b[0;34m.\u001b[0m\u001b[0mgetConstrs\u001b[0m\u001b[0;34m(\u001b[0m\u001b[0;34m)\u001b[0m\u001b[0;34m,\u001b[0m \u001b[0;34m[\u001b[0m\u001b[0;36m1\u001b[0m\u001b[0;34m,\u001b[0m \u001b[0;36m1\u001b[0m\u001b[0;34m]\u001b[0m\u001b[0;34m)\u001b[0m\u001b[0;34m\u001b[0m\u001b[0;34m\u001b[0m\u001b[0m\n\u001b[0m",
      "\u001b[0;32msrc/gurobipy/model.pxi\u001b[0m in \u001b[0;36mgurobipy.Model.feasRelax\u001b[0;34m()\u001b[0m\n",
      "\u001b[0;31mGurobiError\u001b[0m: Length of penalty list differs from length of constraint list"
     ]
    }
   ],
   "source": [
    "m.feasRelax(1, False, m.getVars(), [1, 1], [1, 1], m.getConstrs(), [1, 1])"
   ]
  }
 ],
 "metadata": {
  "kernelspec": {
   "display_name": "Python 3.7.10 ('menv')",
   "language": "python",
   "name": "python3"
  },
  "language_info": {
   "codemirror_mode": {
    "name": "ipython",
    "version": 3
   },
   "file_extension": ".py",
   "mimetype": "text/x-python",
   "name": "python",
   "nbconvert_exporter": "python",
   "pygments_lexer": "ipython3",
   "version": "3.7.10"
  },
  "orig_nbformat": 4,
  "vscode": {
   "interpreter": {
    "hash": "2cae5d9ea5b1f5f999363081eff2a06d9f3791fb5cffaa4ef644e25687334e5e"
   }
  }
 },
 "nbformat": 4,
 "nbformat_minor": 2
}
