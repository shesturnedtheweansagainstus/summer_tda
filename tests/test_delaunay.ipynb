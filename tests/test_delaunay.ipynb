{
 "cells": [
  {
   "cell_type": "code",
   "execution_count": 10,
   "metadata": {},
   "outputs": [],
   "source": [
    "from scipy.optimize         import newton\n",
    "from sklearn.neighbors      import KDTree\n",
    "from scipy.sparse           import csr_matrix\n",
    "from scipy.sparse.csgraph   import dijkstra\n",
    "from scipy.linalg           import eig\n",
    "from sklearn.decomposition  import PCA\n",
    "import numpy                as np\n",
    "import gudhi                as gd\n",
    "import warnings\n",
    "import gurobipy             as gp\n",
    "from gurobipy               import GRB\n",
    "import matplotlib.pyplot    as plt\n",
    "from kneed                  import KneeLocator\n",
    "from scipy.spatial          import distance_matrix\n",
    "from ripser                 import Rips\n",
    "from sklearn.preprocessing  import PolynomialFeatures\n",
    "import sympy                as sp\n",
    "from pymoo.algorithms.soo.nonconvex.ga import GA\n",
    "from pymoo.core.problem     import Problem\n",
    "from pymoo.optimize         import minimize\n",
    "import tadasets\n",
    "import rml\n",
    "from scipy.spatial import Delaunay\n",
    "\n",
    "#%matplotlib qt"
   ]
  },
  {
   "cell_type": "code",
   "execution_count": 3,
   "metadata": {},
   "outputs": [],
   "source": [
    "n_points = 1500"
   ]
  },
  {
   "cell_type": "code",
   "execution_count": 60,
   "metadata": {},
   "outputs": [],
   "source": [
    "params = {'max_components':5, 'S':0.5, 'k':10, 'threshold_var':0.05, 'edge_sen':1.5, 'k0':10, 'beta':[0.8, 3, 0.2, 0.2]}\n",
    "#params = {'max_components':5, 'S':0.5, 'k':10, 'threshold_var':0.05, 'edge_sen':2, 'k0':3, 'beta':None}\n",
    "\n",
    "b_params = {'k':10, 'threshold_var':0.08, 'edge_sen':1, 'k0':10} "
   ]
  },
  {
   "cell_type": "code",
   "execution_count": 37,
   "metadata": {},
   "outputs": [],
   "source": [
    "sphere1 = tadasets.dsphere(n=int(n_points))\n",
    "\n",
    "sphere5 = tadasets.dsphere(n=int(n_points*1.3))\n",
    "sphere5 = sphere5[sphere5[:, 2]>=-0.7]"
   ]
  },
  {
   "cell_type": "code",
   "execution_count": 38,
   "metadata": {},
   "outputs": [
    {
     "name": "stdout",
     "output_type": "stream",
     "text": [
      "388\n",
      "44\n"
     ]
    }
   ],
   "source": [
    "S = rml.Simplex()\n",
    "S.build_simplex(sphere1, **params)\n",
    "_ = S.normal_coords_trade(**params)"
   ]
  },
  {
   "cell_type": "code",
   "execution_count": 39,
   "metadata": {},
   "outputs": [],
   "source": [
    "S_b = rml.Simplex()\n",
    "S_b.build_simplex(S.coords, **b_params)"
   ]
  },
  {
   "cell_type": "code",
   "execution_count": 41,
   "metadata": {},
   "outputs": [],
   "source": [
    "fig = plt.figure(figsize=(20, 20))\n",
    "fig.suptitle(\", \".join([i+\"=\"+str(params[i]) for i in params.keys()]) + f', dim={S.dim}, n={n_points}')\n",
    "\n",
    "ax1 = fig.add_subplot(1, 3, 1)\n",
    "ax2 = fig.add_subplot(1, 3, 2)\n",
    "ax3 = fig.add_subplot(1, 3, 3)\n",
    "\n",
    "ax1.scatter(S.coords[:, 0], S.coords[:, 1], c=S.pointcloud[:, 0])\n",
    "\n",
    "tri = Delaunay(S.coords)\n",
    "boundary = set()\n",
    "for i in range(len(tri.neighbors)):\n",
    "    for k in range(3):\n",
    "        if (tri.neighbors[i][k] == -1):\n",
    "            nk1,nk2 = (k+1)%3, (k+2)%3 \n",
    "            boundary.add(tri.simplices[i][nk1])\n",
    "            boundary.add(tri.simplices[i][nk2])\n",
    "\n",
    "ax2.triplot(S.coords[:,0], S.coords[:,1], tri.simplices.copy())\n",
    "ax2.plot(S.coords[list(boundary),0], S.coords[list(boundary),1], 'or')\n",
    "#plt.scatter(S.coords[:,0], S.coords[:,1], c=S.pointcloud[:, 0])\n",
    "\n",
    "ax3.scatter(S.coords[:, 0], S.coords[:, 1], c=S.pointcloud[:, 0])\n",
    "\n",
    "for i in range(len(S_b.pointcloud)):\n",
    "    for k in S_b.edges[i]:\n",
    "        ax3.plot([S_b.pointcloud[i][0], S_b.pointcloud[k][0]],[S_b.pointcloud[i][1], S_b.pointcloud[k][1]], color='black', alpha=0.1)\n",
    "\n",
    "plt.show()"
   ]
  },
  {
   "cell_type": "code",
   "execution_count": 57,
   "metadata": {},
   "outputs": [],
   "source": [
    "def generate_disk(n, r=1):\n",
    "    U1 = np.random.uniform(size = 10000)\n",
    "    U2 = np.random.uniform(size = 10000)\n",
    "    X = r * np.sqrt(U2) * np.cos(2 * np.pi * U1)\n",
    "    Y = r * np.sqrt(U2) * np.sin(2 * np.pi * U1)\n",
    "\n",
    "    return X, Y"
   ]
  },
  {
   "cell_type": "code",
   "execution_count": 59,
   "metadata": {},
   "outputs": [
    {
     "data": {
      "text/plain": [
       "<matplotlib.collections.PathCollection at 0x7ff0bee1dd90>"
      ]
     },
     "execution_count": 59,
     "metadata": {},
     "output_type": "execute_result"
    }
   ],
   "source": [
    "X, Y = generate_disk(1000)\n",
    "disk_data = np.column_stack([X, Y])\n",
    "annulus = disk_data[np.linalg.norm(disk_data, axis=1)>=0.5]\n",
    "plt.scatter(annulus[:, 0], annulus[:, 1])"
   ]
  },
  {
   "cell_type": "code",
   "execution_count": 61,
   "metadata": {},
   "outputs": [],
   "source": [
    "S_c = rml.Simplex()\n",
    "S_b.build_simplex(annulus, **b_params)\n",
    "p_idx, _ = S.normal_coords_trade(**b_params)"
   ]
  },
  {
   "cell_type": "code",
   "execution_count": null,
   "metadata": {},
   "outputs": [],
   "source": []
  }
 ],
 "metadata": {
  "kernelspec": {
   "display_name": "Python 3.7.10 ('menv')",
   "language": "python",
   "name": "python3"
  },
  "language_info": {
   "codemirror_mode": {
    "name": "ipython",
    "version": 3
   },
   "file_extension": ".py",
   "mimetype": "text/x-python",
   "name": "python",
   "nbconvert_exporter": "python",
   "pygments_lexer": "ipython3",
   "version": "3.7.10"
  },
  "orig_nbformat": 4,
  "vscode": {
   "interpreter": {
    "hash": "2cae5d9ea5b1f5f999363081eff2a06d9f3791fb5cffaa4ef644e25687334e5e"
   }
  }
 },
 "nbformat": 4,
 "nbformat_minor": 2
}
